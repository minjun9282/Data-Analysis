{
 "cells": [
  {
   "cell_type": "markdown",
   "metadata": {},
   "source": [
    "# 1. 주제 선정 이유"
   ]
  },
  {
   "cell_type": "markdown",
   "metadata": {},
   "source": [
    "   최근 가좌주공아파트 방화 살인 사건, 창원 할머니 살인 사건의 가해자가 조현병 환자로 밝혀지자 조현병 환자 관리와는 별개로 잔혹한 범죄를 저지른 이들이 심신미약으로  원죄에 비해 약한처벌을 받으리라는 추측에 국민들이 분노하고 있다.<br> \n",
    "    또한 최근 성범죄자 조두순의 출소가 얼마남지 않았다는 사실이 보도되자 조두순이 받는 처벌이 죄에 비해 지나치게 가벼웠으며 그러기에 출소를 막아야 한다는 국민 청원도 올라와 있다.<br> \n",
    "    나 또한 살인사건/성범죄 사건의 판결을 뉴스를 통해 접하며 과연 범죄자들에게 저 정도의 처벌이 충분한 것인지에 대한 고민을 해본적이 많다. 또한 악질범죄자가 심신미약의 이유로 감형이 선고될때는 분노와 더불어 정말 어이없다고 생각한 적이 많았다.<Br> \n",
    "    무거울 수 있는 주제이지만 이번 TermProject를 통해 살인사건/성범죄사건의 판결문을 분석하여 범죄에 대한 처벌 수위의 적합성 / 처벌 수위의 공정성 / 심신미약의 정상참작 이후 처벌의 감형 정도에 대하여 분석을 해보고 강력범죄에 대한 처벌이 제대로 이루어지고 있는가에 대해 분석하기 위해 이런 주제를 선정했다."
   ]
  },
  {
   "cell_type": "markdown",
   "metadata": {},
   "source": [
    "# 2. 가설 정의"
   ]
  },
  {
   "cell_type": "markdown",
   "metadata": {},
   "source": [
    "1) 살인 / 성범죄 모두에 있어 가해자의 심신미약 상태가 참작이 될 경우 그렇지 않은 경우에 비해 큰 감형이 이루어 질 것이다.\n",
    "\n",
    "2) 유사한 범죄에 대해 다른 수위의 형벌을 선고하는 공정하지 못한 판결이 존재할 것이다.\n",
    "\n",
    "3) 판례 분석을 통해 특정 범죄에 대한 형량을 수치화 할 수 있을 것이다.\n",
    "\n",
    "4) 특정 범죄군의 형량을 수치화하면 충분한 형량을 내린 판결과 그렇지 못한 판결을 구분할 수 있을 것이다.\n",
    "\n",
    "\n"
   ]
  },
  {
   "cell_type": "markdown",
   "metadata": {},
   "source": [
    "# 3. 인터넷을 통한 데이터 획득"
   ]
  },
  {
   "cell_type": "markdown",
   "metadata": {},
   "source": [
    "1) 전국법원 주요 판결 - http://www.scourt.go.kr/portal/dcboard/DcNewsListAction.work?gubun=44\n",
    "\n",
    "- 해당 사이트에서 주요판결 -> 살인 검색시 246건의 살인사건에 대한 사건요약과 판결내용을 얻을 수 있음.<br>\n",
    "- 또한 성범죄, 성폭행,성폭력, 성매매 등의 범죄 검색을 통해 성범죄 사건에 대한 사건요약과 판결 내용을 얻을 수 있음.<br>\n",
    "- 웹 스크래핑을 통해 '사건요약 + 판결내용' 을 텍스트 파일로 만든후 가해자 피해자의 성별, 피해자의 나이, 가해자의 심신미약 상태, 가해자와 피해자의 관계, 범죄 방식, 죄목, 형벌을 list 형태로 만든다.<br>\n",
    "- list 들의 비교(set으로 전환등)을 통해 중복되는 요소들을 찾으며 각 범죄요소와 형벌을 연결시켜 수치화 함.<br>\n",
    "\n",
    "\n",
    " \n",
    "2) 대한민국 법원 종합법률정보 - https://glaw.scourt.go.kr/wsjo/panre/sjo050.do#1556510391326\n",
    "\n",
    "- 판례 -> 단순검색에 들어간후 살인/ 성범죄를 검색후 형사 디렉토리에 들어가면 여러 범죄사건에 대한 1) 보다는 자세한 판결문을 얻을 수 있음.<br>\n",
    "- (1)과 같은 과정을 반복하여 판결문에서 필요한 요소를 추출함.\n"
   ]
  },
  {
   "cell_type": "markdown",
   "metadata": {},
   "source": [
    "# 4. 분석을 위한 데이터의 가공"
   ]
  },
  {
   "cell_type": "markdown",
   "metadata": {},
   "source": [
    "# 5. 분석 결과 도출"
   ]
  },
  {
   "cell_type": "markdown",
   "metadata": {},
   "source": [
    "# 6. 결론"
   ]
  },
  {
   "cell_type": "markdown",
   "metadata": {},
   "source": [
    "# 7. 참고문헌"
   ]
  },
  {
   "cell_type": "markdown",
   "metadata": {},
   "source": [
    "1) 파이썬 웹 스크래핑 - 리차드 로손 지음 / 김영하 옮김\n",
    "\n",
    "2) 김두얼 외 1인,(2019).죄형법정주의.저스티스,(170-3),58-89.\n",
    "\n",
    "3) 홍수민 외 3인,(2013).국민참여재판에 있어 임의명정으로 인한 심신장애 주장에 대한 배심단과 법관의 양형판단 차이 연구.한국심리학회 학술대회 자료집,2013(1),137-138."
   ]
  },
  {
   "cell_type": "markdown",
   "metadata": {},
   "source": [
    "# 8. 별첨1"
   ]
  },
  {
   "cell_type": "markdown",
   "metadata": {},
   "source": [
    "# 9. 별첨2"
   ]
  },
  {
   "cell_type": "markdown",
   "metadata": {},
   "source": [
    "# 10. 별첨3"
   ]
  }
 ],
 "metadata": {
  "kernelspec": {
   "display_name": "Python 3",
   "language": "python",
   "name": "python3"
  },
  "language_info": {
   "codemirror_mode": {
    "name": "ipython",
    "version": 3
   },
   "file_extension": ".py",
   "mimetype": "text/x-python",
   "name": "python",
   "nbconvert_exporter": "python",
   "pygments_lexer": "ipython3",
   "version": "3.7.1"
  }
 },
 "nbformat": 4,
 "nbformat_minor": 2
}
